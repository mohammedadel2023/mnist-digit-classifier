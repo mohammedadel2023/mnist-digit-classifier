{
  "nbformat": 4,
  "nbformat_minor": 0,
  "metadata": {
    "colab": {
      "provenance": []
    },
    "kernelspec": {
      "name": "python3",
      "display_name": "Python 3"
    },
    "language_info": {
      "name": "python"
    }
  },
  "cells": [
    {
      "cell_type": "markdown",
      "source": [],
      "metadata": {
        "id": "-De-ZE1keFLi"
      }
    },
    {
      "cell_type": "markdown",
      "source": [
        "using a neural network to detect a digit 0~9"
      ],
      "metadata": {
        "id": "nTMTM8_wHN4Z"
      }
    },
    {
      "cell_type": "code",
      "source": [
        "import numpy as np\n",
        "import tensorflow as tf\n",
        "from tensorflow.keras.models import Sequential\n",
        "from tensorflow.keras.layers import Dense ,Flatten\n",
        "from tensorflow.keras.losses import BinaryCrossentropy , SparseCategoricalCrossentropy\n",
        "from tensorflow.keras.datasets import mnist\n",
        "import logging\n",
        "logging.getLogger(\"tensorflow\").setLevel(logging.ERROR)\n",
        "tf.autograph.set_verbosity(0)"
      ],
      "metadata": {
        "id": "tByVVgoUjxcM"
      },
      "execution_count": 7,
      "outputs": []
    },
    {
      "cell_type": "markdown",
      "source": [
        "looding the data"
      ],
      "metadata": {
        "id": "5V2zkTVrFBqr"
      }
    },
    {
      "cell_type": "code",
      "source": [
        "(x_train , y_train) ,( x_test , y_test) = mnist.load_data()\n",
        "#print(x_train[:3])\n",
        "#print(x_train.shape)\n",
        "#print(y_train.shape)\n",
        "#print(y_train[:3])\n",
        "#print(x_test.shape)\n",
        "#print(y_test.shape)"
      ],
      "metadata": {
        "colab": {
          "base_uri": "https://localhost:8080/"
        },
        "id": "vXeyugjaDIWk",
        "outputId": "16d9be3b-b071-470e-f91a-87e13776917e"
      },
      "execution_count": 2,
      "outputs": [
        {
          "output_type": "stream",
          "name": "stdout",
          "text": [
            "Downloading data from https://storage.googleapis.com/tensorflow/tf-keras-datasets/mnist.npz\n",
            "\u001b[1m11490434/11490434\u001b[0m \u001b[32m━━━━━━━━━━━━━━━━━━━━\u001b[0m\u001b[37m\u001b[0m \u001b[1m0s\u001b[0m 0us/step\n"
          ]
        }
      ]
    },
    {
      "cell_type": "markdown",
      "source": [
        "filtering the data to just use 1,0 digit samples"
      ],
      "metadata": {
        "id": "FTmXpl2KFEpq"
      }
    },
    {
      "cell_type": "code",
      "source": [
        "x_train=x_train/255.0\n",
        "x_test=x_test/255.0\n",
        "y_train=y_train.astype(np.float32)\n",
        "y_test=y_test.astype(np.float32)\n",
        "print(np.unique(y_train))\n",
        "print(np.unique(y_test))"
      ],
      "metadata": {
        "colab": {
          "base_uri": "https://localhost:8080/"
        },
        "id": "yJSIvtKdHK3I",
        "outputId": "20988159-fef3-4355-c9c5-c8b712194eaf"
      },
      "execution_count": 3,
      "outputs": [
        {
          "output_type": "stream",
          "name": "stdout",
          "text": [
            "[0. 1. 2. 3. 4. 5. 6. 7. 8. 9.]\n",
            "[0. 1. 2. 3. 4. 5. 6. 7. 8. 9.]\n"
          ]
        }
      ]
    },
    {
      "cell_type": "markdown",
      "source": [
        "**flatten the 3d matrix into a 1d vector**"
      ],
      "metadata": {
        "id": "t75ogtDgJZqA"
      }
    },
    {
      "cell_type": "code",
      "source": [
        "print(\"Label counts:\", np.bincount(y_train.astype(int)))\n",
        "print(\"x_train shape:\", x_train.shape)\n",
        "print(\"y_train shape:\", y_train.shape)\n",
        "print(\"x_train min/max:\", x_train.min(), x_train.max())\n",
        "print(\"unique labels:\", np.unique(y_train))\n"
      ],
      "metadata": {
        "colab": {
          "base_uri": "https://localhost:8080/"
        },
        "id": "Ep4M80pjJiPv",
        "outputId": "adebf59e-9dc8-40ad-c9bb-19baab2c28c4"
      },
      "execution_count": 4,
      "outputs": [
        {
          "output_type": "stream",
          "name": "stdout",
          "text": [
            "(60000, 28, 28)\n",
            "(10000, 28, 28)\n",
            "(60000,)\n",
            "(10000,)\n",
            "Label counts: [5923 6742 5958 6131 5842 5421 5918 6265 5851 5949]\n"
          ]
        }
      ]
    },
    {
      "cell_type": "code",
      "source": [
        "tf.random.set_seed(1234)\n",
        "model=Sequential([\n",
        "    Flatten(input_shape=(28, 28)),\n",
        "    Dense(150,activation='relu',name=\"layer_1\"),\n",
        "    Dense(100,activation='relu',name=\"layer_2\"),\n",
        "    Dense(64,activation='relu',name=\"layer_3\"),\n",
        "    Dense(32,activation='relu',name=\"layer_4\"),\n",
        "    Dense(10,activation='softmax',name=\"layer_5\")\n",
        "]\n",
        "\n",
        ")\n",
        "model.compile(\n",
        "\n",
        "    loss=SparseCategoricalCrossentropy(from_logits=False),\n",
        "    metrics=['accuracy'] ,\n",
        "    optimizer='adam'\n",
        "\n",
        ")\n",
        "model.fit(x_train , y_train , epochs=10, batch_size=32)\n"
      ],
      "metadata": {
        "colab": {
          "base_uri": "https://localhost:8080/"
        },
        "id": "kqGyOs87Jzmp",
        "outputId": "d86f4b48-ef8f-4ff3-d127-9a13348ed3c2"
      },
      "execution_count": 10,
      "outputs": [
        {
          "output_type": "stream",
          "name": "stdout",
          "text": [
            "Epoch 1/10\n",
            "\u001b[1m1875/1875\u001b[0m \u001b[32m━━━━━━━━━━━━━━━━━━━━\u001b[0m\u001b[37m\u001b[0m \u001b[1m5s\u001b[0m 2ms/step - accuracy: 0.8650 - loss: 0.4414\n",
            "Epoch 2/10\n",
            "\u001b[1m1875/1875\u001b[0m \u001b[32m━━━━━━━━━━━━━━━━━━━━\u001b[0m\u001b[37m\u001b[0m \u001b[1m5s\u001b[0m 2ms/step - accuracy: 0.9644 - loss: 0.1157\n",
            "Epoch 3/10\n",
            "\u001b[1m1875/1875\u001b[0m \u001b[32m━━━━━━━━━━━━━━━━━━━━\u001b[0m\u001b[37m\u001b[0m \u001b[1m5s\u001b[0m 2ms/step - accuracy: 0.9762 - loss: 0.0780\n",
            "Epoch 4/10\n",
            "\u001b[1m1875/1875\u001b[0m \u001b[32m━━━━━━━━━━━━━━━━━━━━\u001b[0m\u001b[37m\u001b[0m \u001b[1m4s\u001b[0m 2ms/step - accuracy: 0.9811 - loss: 0.0599\n",
            "Epoch 5/10\n",
            "\u001b[1m1875/1875\u001b[0m \u001b[32m━━━━━━━━━━━━━━━━━━━━\u001b[0m\u001b[37m\u001b[0m \u001b[1m6s\u001b[0m 2ms/step - accuracy: 0.9841 - loss: 0.0498\n",
            "Epoch 6/10\n",
            "\u001b[1m1875/1875\u001b[0m \u001b[32m━━━━━━━━━━━━━━━━━━━━\u001b[0m\u001b[37m\u001b[0m \u001b[1m5s\u001b[0m 2ms/step - accuracy: 0.9882 - loss: 0.0371\n",
            "Epoch 7/10\n",
            "\u001b[1m1875/1875\u001b[0m \u001b[32m━━━━━━━━━━━━━━━━━━━━\u001b[0m\u001b[37m\u001b[0m \u001b[1m5s\u001b[0m 2ms/step - accuracy: 0.9884 - loss: 0.0349\n",
            "Epoch 8/10\n",
            "\u001b[1m1875/1875\u001b[0m \u001b[32m━━━━━━━━━━━━━━━━━━━━\u001b[0m\u001b[37m\u001b[0m \u001b[1m5s\u001b[0m 2ms/step - accuracy: 0.9885 - loss: 0.0326\n",
            "Epoch 9/10\n",
            "\u001b[1m1875/1875\u001b[0m \u001b[32m━━━━━━━━━━━━━━━━━━━━\u001b[0m\u001b[37m\u001b[0m \u001b[1m5s\u001b[0m 2ms/step - accuracy: 0.9923 - loss: 0.0235\n",
            "Epoch 10/10\n",
            "\u001b[1m1875/1875\u001b[0m \u001b[32m━━━━━━━━━━━━━━━━━━━━\u001b[0m\u001b[37m\u001b[0m \u001b[1m5s\u001b[0m 2ms/step - accuracy: 0.9915 - loss: 0.0275\n"
          ]
        },
        {
          "output_type": "execute_result",
          "data": {
            "text/plain": [
              "<keras.src.callbacks.history.History at 0x78fe3ab039d0>"
            ]
          },
          "metadata": {},
          "execution_count": 10
        }
      ]
    },
    {
      "cell_type": "code",
      "source": [
        "print(x_test.shape)\n",
        "model.evaluate(x_test , y_test)\n",
        "predicted=np.argmax(model.predict(x_test),axis=1)\n",
        "print(f\"the number of wrong predicted is {(y_test != predicted).sum()} from {len(y_test)}\")"
      ],
      "metadata": {
        "colab": {
          "base_uri": "https://localhost:8080/"
        },
        "id": "AIlYZp7nLVGi",
        "outputId": "11362964-ae52-4dcf-ed79-c279aefbff1b"
      },
      "execution_count": 16,
      "outputs": [
        {
          "output_type": "stream",
          "name": "stdout",
          "text": [
            "(10000, 28, 28)\n",
            "\u001b[1m313/313\u001b[0m \u001b[32m━━━━━━━━━━━━━━━━━━━━\u001b[0m\u001b[37m\u001b[0m \u001b[1m0s\u001b[0m 1ms/step - accuracy: 0.9680 - loss: 0.1473\n",
            "\u001b[1m313/313\u001b[0m \u001b[32m━━━━━━━━━━━━━━━━━━━━\u001b[0m\u001b[37m\u001b[0m \u001b[1m0s\u001b[0m 982us/step\n",
            "the number of wrong predicted is 280 from 10000\n"
          ]
        }
      ]
    },
    {
      "cell_type": "code",
      "source": [
        "import matplotlib.pyplot as plt\n",
        "\n",
        "# How many to show\n",
        "n = 20\n",
        "plt.figure(figsize=(20, 6))\n",
        "\n",
        "for i in range(n):\n",
        "    if i <=9:\n",
        "\n",
        "       plt.subplot(1, n, i + 1)\n",
        "    else:\n",
        "      plt.subplot(2,n,i-9)\n",
        "    plt.imshow(x_test[i], cmap='gray')\n",
        "    plt.axis('off')\n",
        "    plt.title(f\"P: {predicted[i]}T: {y_test[i]}\")\n",
        "plt.suptitle(\"Predictions denoted by'P' vs. Actual Labels denoted by 'T'\", fontsize=16)\n",
        "plt.tight_layout()\n",
        "plt.show()"
      ],
      "metadata": {
        "colab": {
          "base_uri": "https://localhost:8080/",
          "height": 384
        },
        "id": "PewkRkzSVY7Z",
        "outputId": "29f1b0c4-5f48-4014-f417-19a83a18fbd7"
      },
      "execution_count": 29,
      "outputs": [
        {
          "output_type": "display_data",
          "data": {
            "text/plain": [
              "<Figure size 2000x600 with 20 Axes>"
            ],
            "image/png": "[encoded data removed]"
          },
          "metadata": {}
        }
      ]
    },
    {
      "cell_type": "code",
      "source": [],
      "metadata": {
        "id": "pC3vCO1zX1dj"
      },
      "execution_count": null,
      "outputs": []
    }
  ]
}